{
 "cells": [
  {
   "cell_type": "markdown",
   "metadata": {},
   "source": [
    "### Models Building\n",
    "\n",
    "Adapting attributes and label to prediction models and performing trainnings. "
   ]
  },
  {
   "cell_type": "code",
   "execution_count": 2,
   "metadata": {},
   "outputs": [],
   "source": [
    "import pandas as pd\n",
    "from sklearn.preprocessing import LabelEncoder"
   ]
  },
  {
   "cell_type": "code",
   "execution_count": 3,
   "metadata": {},
   "outputs": [
    {
     "data": {
      "text/html": [
       "<div>\n",
       "<style scoped>\n",
       "    .dataframe tbody tr th:only-of-type {\n",
       "        vertical-align: middle;\n",
       "    }\n",
       "\n",
       "    .dataframe tbody tr th {\n",
       "        vertical-align: top;\n",
       "    }\n",
       "\n",
       "    .dataframe thead th {\n",
       "        text-align: right;\n",
       "    }\n",
       "</style>\n",
       "<table border=\"1\" class=\"dataframe\">\n",
       "  <thead>\n",
       "    <tr style=\"text-align: right;\">\n",
       "      <th></th>\n",
       "      <th>hotel</th>\n",
       "      <th>is_canceled</th>\n",
       "      <th>arrival_date_year</th>\n",
       "      <th>arrival_date_month</th>\n",
       "      <th>arrival_date_week_number</th>\n",
       "      <th>arrival_date_day_of_month</th>\n",
       "      <th>stays_in_weekend_nights</th>\n",
       "      <th>stays_in_week_nights</th>\n",
       "      <th>adults</th>\n",
       "      <th>children</th>\n",
       "      <th>...</th>\n",
       "      <th>assigned_room_type</th>\n",
       "      <th>booking_changes</th>\n",
       "      <th>deposit_type</th>\n",
       "      <th>days_in_waiting_list</th>\n",
       "      <th>customer_type</th>\n",
       "      <th>adr</th>\n",
       "      <th>required_car_parking_spaces</th>\n",
       "      <th>total_of_special_requests</th>\n",
       "      <th>reservation_status</th>\n",
       "      <th>lead_time_log</th>\n",
       "    </tr>\n",
       "  </thead>\n",
       "  <tbody>\n",
       "    <tr>\n",
       "      <td>0</td>\n",
       "      <td>Resort Hotel</td>\n",
       "      <td>0</td>\n",
       "      <td>2015</td>\n",
       "      <td>July</td>\n",
       "      <td>27</td>\n",
       "      <td>1</td>\n",
       "      <td>0</td>\n",
       "      <td>0</td>\n",
       "      <td>2</td>\n",
       "      <td>0.0</td>\n",
       "      <td>...</td>\n",
       "      <td>C</td>\n",
       "      <td>3</td>\n",
       "      <td>No Deposit</td>\n",
       "      <td>0</td>\n",
       "      <td>Transient</td>\n",
       "      <td>0.0</td>\n",
       "      <td>0</td>\n",
       "      <td>0</td>\n",
       "      <td>Check-Out</td>\n",
       "      <td>5.834811</td>\n",
       "    </tr>\n",
       "    <tr>\n",
       "      <td>1</td>\n",
       "      <td>Resort Hotel</td>\n",
       "      <td>0</td>\n",
       "      <td>2015</td>\n",
       "      <td>July</td>\n",
       "      <td>27</td>\n",
       "      <td>1</td>\n",
       "      <td>0</td>\n",
       "      <td>0</td>\n",
       "      <td>2</td>\n",
       "      <td>0.0</td>\n",
       "      <td>...</td>\n",
       "      <td>C</td>\n",
       "      <td>4</td>\n",
       "      <td>No Deposit</td>\n",
       "      <td>0</td>\n",
       "      <td>Transient</td>\n",
       "      <td>0.0</td>\n",
       "      <td>0</td>\n",
       "      <td>0</td>\n",
       "      <td>Check-Out</td>\n",
       "      <td>6.602588</td>\n",
       "    </tr>\n",
       "    <tr>\n",
       "      <td>2</td>\n",
       "      <td>Resort Hotel</td>\n",
       "      <td>0</td>\n",
       "      <td>2015</td>\n",
       "      <td>July</td>\n",
       "      <td>27</td>\n",
       "      <td>1</td>\n",
       "      <td>0</td>\n",
       "      <td>1</td>\n",
       "      <td>1</td>\n",
       "      <td>0.0</td>\n",
       "      <td>...</td>\n",
       "      <td>C</td>\n",
       "      <td>0</td>\n",
       "      <td>No Deposit</td>\n",
       "      <td>0</td>\n",
       "      <td>Transient</td>\n",
       "      <td>75.0</td>\n",
       "      <td>0</td>\n",
       "      <td>0</td>\n",
       "      <td>Check-Out</td>\n",
       "      <td>1.945910</td>\n",
       "    </tr>\n",
       "    <tr>\n",
       "      <td>3</td>\n",
       "      <td>Resort Hotel</td>\n",
       "      <td>0</td>\n",
       "      <td>2015</td>\n",
       "      <td>July</td>\n",
       "      <td>27</td>\n",
       "      <td>1</td>\n",
       "      <td>0</td>\n",
       "      <td>1</td>\n",
       "      <td>1</td>\n",
       "      <td>0.0</td>\n",
       "      <td>...</td>\n",
       "      <td>A</td>\n",
       "      <td>0</td>\n",
       "      <td>No Deposit</td>\n",
       "      <td>0</td>\n",
       "      <td>Transient</td>\n",
       "      <td>75.0</td>\n",
       "      <td>0</td>\n",
       "      <td>0</td>\n",
       "      <td>Check-Out</td>\n",
       "      <td>2.564949</td>\n",
       "    </tr>\n",
       "    <tr>\n",
       "      <td>4</td>\n",
       "      <td>Resort Hotel</td>\n",
       "      <td>0</td>\n",
       "      <td>2015</td>\n",
       "      <td>July</td>\n",
       "      <td>27</td>\n",
       "      <td>1</td>\n",
       "      <td>0</td>\n",
       "      <td>2</td>\n",
       "      <td>2</td>\n",
       "      <td>0.0</td>\n",
       "      <td>...</td>\n",
       "      <td>A</td>\n",
       "      <td>0</td>\n",
       "      <td>No Deposit</td>\n",
       "      <td>0</td>\n",
       "      <td>Transient</td>\n",
       "      <td>98.0</td>\n",
       "      <td>0</td>\n",
       "      <td>1</td>\n",
       "      <td>Check-Out</td>\n",
       "      <td>2.639057</td>\n",
       "    </tr>\n",
       "  </tbody>\n",
       "</table>\n",
       "<p>5 rows × 29 columns</p>\n",
       "</div>"
      ],
      "text/plain": [
       "          hotel  is_canceled  arrival_date_year arrival_date_month  \\\n",
       "0  Resort Hotel            0               2015               July   \n",
       "1  Resort Hotel            0               2015               July   \n",
       "2  Resort Hotel            0               2015               July   \n",
       "3  Resort Hotel            0               2015               July   \n",
       "4  Resort Hotel            0               2015               July   \n",
       "\n",
       "   arrival_date_week_number  arrival_date_day_of_month  \\\n",
       "0                        27                          1   \n",
       "1                        27                          1   \n",
       "2                        27                          1   \n",
       "3                        27                          1   \n",
       "4                        27                          1   \n",
       "\n",
       "   stays_in_weekend_nights  stays_in_week_nights  adults  children  ...  \\\n",
       "0                        0                     0       2       0.0  ...   \n",
       "1                        0                     0       2       0.0  ...   \n",
       "2                        0                     1       1       0.0  ...   \n",
       "3                        0                     1       1       0.0  ...   \n",
       "4                        0                     2       2       0.0  ...   \n",
       "\n",
       "   assigned_room_type booking_changes deposit_type days_in_waiting_list  \\\n",
       "0                   C               3   No Deposit                    0   \n",
       "1                   C               4   No Deposit                    0   \n",
       "2                   C               0   No Deposit                    0   \n",
       "3                   A               0   No Deposit                    0   \n",
       "4                   A               0   No Deposit                    0   \n",
       "\n",
       "  customer_type   adr  required_car_parking_spaces  total_of_special_requests  \\\n",
       "0     Transient   0.0                            0                          0   \n",
       "1     Transient   0.0                            0                          0   \n",
       "2     Transient  75.0                            0                          0   \n",
       "3     Transient  75.0                            0                          0   \n",
       "4     Transient  98.0                            0                          1   \n",
       "\n",
       "  reservation_status lead_time_log  \n",
       "0          Check-Out      5.834811  \n",
       "1          Check-Out      6.602588  \n",
       "2          Check-Out      1.945910  \n",
       "3          Check-Out      2.564949  \n",
       "4          Check-Out      2.639057  \n",
       "\n",
       "[5 rows x 29 columns]"
      ]
     },
     "execution_count": 3,
     "metadata": {},
     "output_type": "execute_result"
    }
   ],
   "source": [
    "data = pd.read_csv('modified_hotelbookings.csv')\n",
    "data.head(5)"
   ]
  },
  {
   "cell_type": "code",
   "execution_count": 6,
   "metadata": {},
   "outputs": [
    {
     "data": {
      "text/html": [
       "<div>\n",
       "<style scoped>\n",
       "    .dataframe tbody tr th:only-of-type {\n",
       "        vertical-align: middle;\n",
       "    }\n",
       "\n",
       "    .dataframe tbody tr th {\n",
       "        vertical-align: top;\n",
       "    }\n",
       "\n",
       "    .dataframe thead th {\n",
       "        text-align: right;\n",
       "    }\n",
       "</style>\n",
       "<table border=\"1\" class=\"dataframe\">\n",
       "  <thead>\n",
       "    <tr style=\"text-align: right;\">\n",
       "      <th></th>\n",
       "      <th>hotel</th>\n",
       "      <th>arrival_date_year</th>\n",
       "      <th>arrival_date_month</th>\n",
       "      <th>arrival_date_week_number</th>\n",
       "      <th>arrival_date_day_of_month</th>\n",
       "      <th>stays_in_weekend_nights</th>\n",
       "      <th>stays_in_week_nights</th>\n",
       "      <th>adults</th>\n",
       "      <th>children</th>\n",
       "      <th>babies</th>\n",
       "      <th>...</th>\n",
       "      <th>assigned_room_type</th>\n",
       "      <th>booking_changes</th>\n",
       "      <th>deposit_type</th>\n",
       "      <th>days_in_waiting_list</th>\n",
       "      <th>customer_type</th>\n",
       "      <th>adr</th>\n",
       "      <th>required_car_parking_spaces</th>\n",
       "      <th>total_of_special_requests</th>\n",
       "      <th>reservation_status</th>\n",
       "      <th>lead_time_log</th>\n",
       "    </tr>\n",
       "  </thead>\n",
       "  <tbody>\n",
       "    <tr>\n",
       "      <td>0</td>\n",
       "      <td>Resort Hotel</td>\n",
       "      <td>2015</td>\n",
       "      <td>July</td>\n",
       "      <td>27</td>\n",
       "      <td>1</td>\n",
       "      <td>0</td>\n",
       "      <td>0</td>\n",
       "      <td>2</td>\n",
       "      <td>0.0</td>\n",
       "      <td>0</td>\n",
       "      <td>...</td>\n",
       "      <td>C</td>\n",
       "      <td>3</td>\n",
       "      <td>No Deposit</td>\n",
       "      <td>0</td>\n",
       "      <td>Transient</td>\n",
       "      <td>0.0</td>\n",
       "      <td>0</td>\n",
       "      <td>0</td>\n",
       "      <td>Check-Out</td>\n",
       "      <td>5.834811</td>\n",
       "    </tr>\n",
       "    <tr>\n",
       "      <td>1</td>\n",
       "      <td>Resort Hotel</td>\n",
       "      <td>2015</td>\n",
       "      <td>July</td>\n",
       "      <td>27</td>\n",
       "      <td>1</td>\n",
       "      <td>0</td>\n",
       "      <td>0</td>\n",
       "      <td>2</td>\n",
       "      <td>0.0</td>\n",
       "      <td>0</td>\n",
       "      <td>...</td>\n",
       "      <td>C</td>\n",
       "      <td>4</td>\n",
       "      <td>No Deposit</td>\n",
       "      <td>0</td>\n",
       "      <td>Transient</td>\n",
       "      <td>0.0</td>\n",
       "      <td>0</td>\n",
       "      <td>0</td>\n",
       "      <td>Check-Out</td>\n",
       "      <td>6.602588</td>\n",
       "    </tr>\n",
       "    <tr>\n",
       "      <td>2</td>\n",
       "      <td>Resort Hotel</td>\n",
       "      <td>2015</td>\n",
       "      <td>July</td>\n",
       "      <td>27</td>\n",
       "      <td>1</td>\n",
       "      <td>0</td>\n",
       "      <td>1</td>\n",
       "      <td>1</td>\n",
       "      <td>0.0</td>\n",
       "      <td>0</td>\n",
       "      <td>...</td>\n",
       "      <td>C</td>\n",
       "      <td>0</td>\n",
       "      <td>No Deposit</td>\n",
       "      <td>0</td>\n",
       "      <td>Transient</td>\n",
       "      <td>75.0</td>\n",
       "      <td>0</td>\n",
       "      <td>0</td>\n",
       "      <td>Check-Out</td>\n",
       "      <td>1.945910</td>\n",
       "    </tr>\n",
       "    <tr>\n",
       "      <td>3</td>\n",
       "      <td>Resort Hotel</td>\n",
       "      <td>2015</td>\n",
       "      <td>July</td>\n",
       "      <td>27</td>\n",
       "      <td>1</td>\n",
       "      <td>0</td>\n",
       "      <td>1</td>\n",
       "      <td>1</td>\n",
       "      <td>0.0</td>\n",
       "      <td>0</td>\n",
       "      <td>...</td>\n",
       "      <td>A</td>\n",
       "      <td>0</td>\n",
       "      <td>No Deposit</td>\n",
       "      <td>0</td>\n",
       "      <td>Transient</td>\n",
       "      <td>75.0</td>\n",
       "      <td>0</td>\n",
       "      <td>0</td>\n",
       "      <td>Check-Out</td>\n",
       "      <td>2.564949</td>\n",
       "    </tr>\n",
       "    <tr>\n",
       "      <td>4</td>\n",
       "      <td>Resort Hotel</td>\n",
       "      <td>2015</td>\n",
       "      <td>July</td>\n",
       "      <td>27</td>\n",
       "      <td>1</td>\n",
       "      <td>0</td>\n",
       "      <td>2</td>\n",
       "      <td>2</td>\n",
       "      <td>0.0</td>\n",
       "      <td>0</td>\n",
       "      <td>...</td>\n",
       "      <td>A</td>\n",
       "      <td>0</td>\n",
       "      <td>No Deposit</td>\n",
       "      <td>0</td>\n",
       "      <td>Transient</td>\n",
       "      <td>98.0</td>\n",
       "      <td>0</td>\n",
       "      <td>1</td>\n",
       "      <td>Check-Out</td>\n",
       "      <td>2.639057</td>\n",
       "    </tr>\n",
       "  </tbody>\n",
       "</table>\n",
       "<p>5 rows × 28 columns</p>\n",
       "</div>"
      ],
      "text/plain": [
       "          hotel  arrival_date_year arrival_date_month  \\\n",
       "0  Resort Hotel               2015               July   \n",
       "1  Resort Hotel               2015               July   \n",
       "2  Resort Hotel               2015               July   \n",
       "3  Resort Hotel               2015               July   \n",
       "4  Resort Hotel               2015               July   \n",
       "\n",
       "   arrival_date_week_number  arrival_date_day_of_month  \\\n",
       "0                        27                          1   \n",
       "1                        27                          1   \n",
       "2                        27                          1   \n",
       "3                        27                          1   \n",
       "4                        27                          1   \n",
       "\n",
       "   stays_in_weekend_nights  stays_in_week_nights  adults  children  babies  \\\n",
       "0                        0                     0       2       0.0       0   \n",
       "1                        0                     0       2       0.0       0   \n",
       "2                        0                     1       1       0.0       0   \n",
       "3                        0                     1       1       0.0       0   \n",
       "4                        0                     2       2       0.0       0   \n",
       "\n",
       "   ... assigned_room_type booking_changes deposit_type days_in_waiting_list  \\\n",
       "0  ...                  C               3   No Deposit                    0   \n",
       "1  ...                  C               4   No Deposit                    0   \n",
       "2  ...                  C               0   No Deposit                    0   \n",
       "3  ...                  A               0   No Deposit                    0   \n",
       "4  ...                  A               0   No Deposit                    0   \n",
       "\n",
       "   customer_type   adr  required_car_parking_spaces total_of_special_requests  \\\n",
       "0      Transient   0.0                            0                         0   \n",
       "1      Transient   0.0                            0                         0   \n",
       "2      Transient  75.0                            0                         0   \n",
       "3      Transient  75.0                            0                         0   \n",
       "4      Transient  98.0                            0                         1   \n",
       "\n",
       "  reservation_status  lead_time_log  \n",
       "0          Check-Out       5.834811  \n",
       "1          Check-Out       6.602588  \n",
       "2          Check-Out       1.945910  \n",
       "3          Check-Out       2.564949  \n",
       "4          Check-Out       2.639057  \n",
       "\n",
       "[5 rows x 28 columns]"
      ]
     },
     "execution_count": 6,
     "metadata": {},
     "output_type": "execute_result"
    }
   ],
   "source": [
    "#separating attributes and labels\n",
    "label = data.iloc[:, 1].values\n",
    "attributes_data = data.drop('is_canceled', axis=1)\n",
    "attributes_data.head(5)"
   ]
  },
  {
   "cell_type": "code",
   "execution_count": 7,
   "metadata": {},
   "outputs": [
    {
     "name": "stdout",
     "output_type": "stream",
     "text": [
      "<class 'pandas.core.frame.DataFrame'>\n",
      "RangeIndex: 119390 entries, 0 to 119389\n",
      "Data columns (total 28 columns):\n",
      "hotel                             119390 non-null object\n",
      "arrival_date_year                 119390 non-null int64\n",
      "arrival_date_month                119390 non-null object\n",
      "arrival_date_week_number          119390 non-null int64\n",
      "arrival_date_day_of_month         119390 non-null int64\n",
      "stays_in_weekend_nights           119390 non-null int64\n",
      "stays_in_week_nights              119390 non-null int64\n",
      "adults                            119390 non-null int64\n",
      "children                          119390 non-null float64\n",
      "babies                            119390 non-null int64\n",
      "meal                              119390 non-null object\n",
      "country                           119390 non-null object\n",
      "market_segment                    119390 non-null object\n",
      "distribution_channel              119390 non-null object\n",
      "is_repeated_guest                 119390 non-null int64\n",
      "previous_cancellations            119390 non-null int64\n",
      "previous_bookings_not_canceled    119390 non-null int64\n",
      "reserved_room_type                119390 non-null object\n",
      "assigned_room_type                119390 non-null object\n",
      "booking_changes                   119390 non-null int64\n",
      "deposit_type                      119390 non-null object\n",
      "days_in_waiting_list              119390 non-null int64\n",
      "customer_type                     119390 non-null object\n",
      "adr                               119390 non-null float64\n",
      "required_car_parking_spaces       119390 non-null int64\n",
      "total_of_special_requests         119390 non-null int64\n",
      "reservation_status                119390 non-null object\n",
      "lead_time_log                     119390 non-null float64\n",
      "dtypes: float64(3), int64(14), object(11)\n",
      "memory usage: 25.5+ MB\n"
     ]
    }
   ],
   "source": [
    "attributes_data.info()"
   ]
  },
  {
   "cell_type": "code",
   "execution_count": 8,
   "metadata": {},
   "outputs": [],
   "source": [
    "#converting the collumns 0,2,10,11,12,13,17,18,20,22,26\n",
    "attributes = attributes_data.values\n",
    "\n",
    "label_encoder = LabelEncoder()\n",
    "attributes[:, 0] = label_encoder.fit_transform(attributes[:, 0])\n",
    "attributes[:, 2] = label_encoder.fit_transform(attributes[:, 2])\n",
    "attributes[:, 10] = label_encoder.fit_transform(attributes[:, 10])\n",
    "attributes[:, 11] = label_encoder.fit_transform(attributes[:, 11])\n",
    "attributes[:, 12] = label_encoder.fit_transform(attributes[:, 12])\n",
    "attributes[:, 13] = label_encoder.fit_transform(attributes[:, 13])\n",
    "attributes[:, 17] = label_encoder.fit_transform(attributes[:, 17])\n",
    "attributes[:, 18] = label_encoder.fit_transform(attributes[:, 18])\n",
    "attributes[:, 20] = label_encoder.fit_transform(attributes[:, 20])\n",
    "attributes[:, 22] = label_encoder.fit_transform(attributes[:, 22])\n",
    "attributes[:, 26] = label_encoder.fit_transform(attributes[:, 26])"
   ]
  },
  {
   "cell_type": "code",
   "execution_count": 9,
   "metadata": {
    "scrolled": true
   },
   "outputs": [
    {
     "name": "stdout",
     "output_type": "stream",
     "text": [
      "Verifying if there are only numbers in attributes:\n",
      "\n",
      "[[1 2015 5 27 1 0 0 2 0.0 0 0 135 3 1 0 0 0 2 2 3 0 0 2 0.0 0 0 1\n",
      "  5.834810737062606]\n",
      " [1 2015 5 27 1 0 0 2 0.0 0 0 135 3 1 0 0 0 2 2 4 0 0 2 0.0 0 0 1\n",
      "  6.6025878921893355]\n",
      " [1 2015 5 27 1 0 1 1 0.0 0 0 59 3 1 0 0 0 0 2 0 0 0 2 75.0 0 0 1\n",
      "  1.9459101490553128]\n",
      " [1 2015 5 27 1 0 1 1 0.0 0 0 59 2 0 0 0 0 0 0 0 0 0 2 75.0 0 0 1\n",
      "  2.5649493574615367]\n",
      " [1 2015 5 27 1 0 2 2 0.0 0 0 59 6 3 0 0 0 0 0 0 0 0 2 98.0 0 1 1\n",
      "  2.6390573296152584]]\n",
      "\n",
      "Attributes lenght:  119390\n",
      "Labels lenght:  119390\n"
     ]
    }
   ],
   "source": [
    "print('Verifying if there are only numbers in attributes:\\n')\n",
    "print(attributes[0:5])\n",
    "print('\\nAttributes lenght: ', + len(attributes))\n",
    "print('Labels lenght: ', + len(label))"
   ]
  },
  {
   "cell_type": "markdown",
   "metadata": {},
   "source": [
    "#### Decision Tree Classifier"
   ]
  },
  {
   "cell_type": "code",
   "execution_count": 22,
   "metadata": {},
   "outputs": [],
   "source": [
    "from sklearn.model_selection import train_test_split\n",
    "from sklearn.metrics import confusion_matrix, accuracy_score, classification_report\n",
    "from sklearn.tree import DecisionTreeClassifier\n"
   ]
  },
  {
   "cell_type": "code",
   "execution_count": 11,
   "metadata": {},
   "outputs": [
    {
     "data": {
      "text/plain": [
       "DecisionTreeClassifier(class_weight=None, criterion='gini', max_depth=None,\n",
       "                       max_features=None, max_leaf_nodes=None,\n",
       "                       min_impurity_decrease=0.0, min_impurity_split=None,\n",
       "                       min_samples_leaf=1, min_samples_split=2,\n",
       "                       min_weight_fraction_leaf=0.0, presort=False,\n",
       "                       random_state=None, splitter='best')"
      ]
     },
     "execution_count": 11,
     "metadata": {},
     "output_type": "execute_result"
    }
   ],
   "source": [
    "#split train x test\n",
    "X_train, X_test, y_train, y_test = train_test_split(attributes, label, test_size=0.3, random_state=0)\n",
    "\n",
    "#training decision tree classifier\n",
    "model = DecisionTreeClassifier()\n",
    "model.fit(X_train, y_train)"
   ]
  },
  {
   "cell_type": "code",
   "execution_count": 12,
   "metadata": {},
   "outputs": [],
   "source": [
    "#making predictions\n",
    "predicts = model.predict(X_test)\n",
    "cm = confusion_matrix(y_test, predicts)\n",
    "acc = accuracy_score(y_test, predicts)"
   ]
  },
  {
   "cell_type": "code",
   "execution_count": 19,
   "metadata": {},
   "outputs": [
    {
     "name": "stdout",
     "output_type": "stream",
     "text": [
      "Confusion Matrix:\n",
      "\n",
      "[[22371     0]\n",
      " [    0 13446]]\n",
      "\n",
      "Accuracy:  100.0\n"
     ]
    }
   ],
   "source": [
    "print('Confusion Matrix:\\n')\n",
    "print(cm)\n",
    "print('\\nAccuracy: ', + acc*100)"
   ]
  },
  {
   "cell_type": "markdown",
   "metadata": {},
   "source": [
    "#### Logistic Regression"
   ]
  },
  {
   "cell_type": "code",
   "execution_count": 20,
   "metadata": {},
   "outputs": [
    {
     "name": "stderr",
     "output_type": "stream",
     "text": [
      "C:\\Users\\---EDUCASAT---\\Anaconda3\\lib\\site-packages\\sklearn\\linear_model\\logistic.py:432: FutureWarning: Default solver will be changed to 'lbfgs' in 0.22. Specify a solver to silence this warning.\n",
      "  FutureWarning)\n"
     ]
    },
    {
     "data": {
      "text/plain": [
       "LogisticRegression(C=1.0, class_weight=None, dual=False, fit_intercept=True,\n",
       "                   intercept_scaling=1, l1_ratio=None, max_iter=100,\n",
       "                   multi_class='warn', n_jobs=None, penalty='l2',\n",
       "                   random_state=None, solver='warn', tol=0.0001, verbose=0,\n",
       "                   warm_start=False)"
      ]
     },
     "execution_count": 20,
     "metadata": {},
     "output_type": "execute_result"
    }
   ],
   "source": [
    "from sklearn.linear_model import LogisticRegression\n",
    "\n",
    "model = LogisticRegression()\n",
    "model.fit(X_train, y_train)"
   ]
  },
  {
   "cell_type": "code",
   "execution_count": 21,
   "metadata": {
    "scrolled": true
   },
   "outputs": [
    {
     "name": "stdout",
     "output_type": "stream",
     "text": [
      "Confusion Matrix:\n",
      "\n",
      "[[22366     5]\n",
      " [  383 13063]]\n",
      "\n",
      "Accuracy:  98.9167155261468\n"
     ]
    }
   ],
   "source": [
    "#making predictions\n",
    "predicts = model.predict(X_test)\n",
    "cm = confusion_matrix(y_test, predicts)\n",
    "acc = accuracy_score(y_test, predicts)\n",
    "\n",
    "print('Confusion Matrix:\\n')\n",
    "print(cm)\n",
    "print('\\nAccuracy: ', + acc*100)"
   ]
  },
  {
   "cell_type": "code",
   "execution_count": 23,
   "metadata": {},
   "outputs": [
    {
     "name": "stdout",
     "output_type": "stream",
     "text": [
      "              precision    recall  f1-score   support\n",
      "\n",
      "           0       0.98      1.00      0.99     22371\n",
      "           1       1.00      0.97      0.99     13446\n",
      "\n",
      "    accuracy                           0.99     35817\n",
      "   macro avg       0.99      0.99      0.99     35817\n",
      "weighted avg       0.99      0.99      0.99     35817\n",
      "\n"
     ]
    }
   ],
   "source": [
    "print(classification_report(y_test, predicts))"
   ]
  },
  {
   "cell_type": "markdown",
   "metadata": {},
   "source": [
    "#### Naive Bayes (GaussianNB)"
   ]
  },
  {
   "cell_type": "code",
   "execution_count": 24,
   "metadata": {},
   "outputs": [
    {
     "data": {
      "text/plain": [
       "GaussianNB(priors=None, var_smoothing=1e-09)"
      ]
     },
     "execution_count": 24,
     "metadata": {},
     "output_type": "execute_result"
    }
   ],
   "source": [
    "from sklearn.naive_bayes import GaussianNB\n",
    "\n",
    "model = GaussianNB()\n",
    "model.fit(X_train, y_train)"
   ]
  },
  {
   "cell_type": "code",
   "execution_count": 25,
   "metadata": {},
   "outputs": [
    {
     "name": "stdout",
     "output_type": "stream",
     "text": [
      "Confusion Matrix:\n",
      "\n",
      "[[22097   274]\n",
      " [    0 13446]]\n",
      "\n",
      "Accuracy:  99.23500013959851\n"
     ]
    }
   ],
   "source": [
    "#making predictions\n",
    "predicts = model.predict(X_test)\n",
    "cm = confusion_matrix(y_test, predicts)\n",
    "acc = accuracy_score(y_test, predicts)\n",
    "\n",
    "print('Confusion Matrix:\\n')\n",
    "print(cm)\n",
    "print('\\nAccuracy: ', + acc*100)"
   ]
  },
  {
   "cell_type": "code",
   "execution_count": 26,
   "metadata": {},
   "outputs": [
    {
     "name": "stdout",
     "output_type": "stream",
     "text": [
      "              precision    recall  f1-score   support\n",
      "\n",
      "           0       1.00      0.99      0.99     22371\n",
      "           1       0.98      1.00      0.99     13446\n",
      "\n",
      "    accuracy                           0.99     35817\n",
      "   macro avg       0.99      0.99      0.99     35817\n",
      "weighted avg       0.99      0.99      0.99     35817\n",
      "\n"
     ]
    }
   ],
   "source": [
    "print(classification_report(y_test, predicts))"
   ]
  }
 ],
 "metadata": {
  "kernelspec": {
   "display_name": "Python 3",
   "language": "python",
   "name": "python3"
  },
  "language_info": {
   "codemirror_mode": {
    "name": "ipython",
    "version": 3
   },
   "file_extension": ".py",
   "mimetype": "text/x-python",
   "name": "python",
   "nbconvert_exporter": "python",
   "pygments_lexer": "ipython3",
   "version": "3.7.4"
  }
 },
 "nbformat": 4,
 "nbformat_minor": 2
}
